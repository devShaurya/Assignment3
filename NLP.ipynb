{
  "nbformat": 4,
  "nbformat_minor": 0,
  "metadata": {
    "colab": {
      "name": "NLP.ipynb",
      "provenance": [],
      "collapsed_sections": [],
      "machine_shape": "hm",
      "include_colab_link": true
    },
    "kernelspec": {
      "name": "python3",
      "display_name": "Python 3"
    },
    "accelerator": "GPU"
  },
  "cells": [
    {
      "cell_type": "markdown",
      "metadata": {
        "id": "view-in-github",
        "colab_type": "text"
      },
      "source": [
        "<a href=\"https://colab.research.google.com/github/devShaurya/Assignment3/blob/master/NLP.ipynb\" target=\"_parent\"><img src=\"https://colab.research.google.com/assets/colab-badge.svg\" alt=\"Open In Colab\"/></a>"
      ]
    },
    {
      "cell_type": "code",
      "metadata": {
        "id": "GdGJLEPFKbVt",
        "colab_type": "code",
        "outputId": "9a15e3ef-c9b1-4955-f9c3-4045771f3768",
        "colab": {
          "base_uri": "https://localhost:8080/",
          "height": 34
        }
      },
      "source": [
        "from google.colab import drive\n",
        "drive.mount('/content/drive')"
      ],
      "execution_count": 1,
      "outputs": [
        {
          "output_type": "stream",
          "text": [
            "Drive already mounted at /content/drive; to attempt to forcibly remount, call drive.mount(\"/content/drive\", force_remount=True).\n"
          ],
          "name": "stdout"
        }
      ]
    },
    {
      "cell_type": "code",
      "metadata": {
        "id": "dsPVVz_QKn63",
        "colab_type": "code",
        "outputId": "26ebbb6a-8c9b-4a40-ce4e-8d4d3dd80a90",
        "colab": {
          "base_uri": "https://localhost:8080/",
          "height": 34
        }
      },
      "source": [
        "cd drive"
      ],
      "execution_count": 2,
      "outputs": [
        {
          "output_type": "stream",
          "text": [
            "/content/drive\n"
          ],
          "name": "stdout"
        }
      ]
    },
    {
      "cell_type": "code",
      "metadata": {
        "id": "3D6H6zA8Kpbk",
        "colab_type": "code",
        "outputId": "2b91ba6d-fdec-47f6-a742-1d71c52cfa4c",
        "colab": {
          "base_uri": "https://localhost:8080/",
          "height": 34
        }
      },
      "source": [
        "ls"
      ],
      "execution_count": 3,
      "outputs": [
        {
          "output_type": "stream",
          "text": [
            "\u001b[0m\u001b[01;34m'My Drive'\u001b[0m/  \u001b[01;34m'Shared drives'\u001b[0m/\n"
          ],
          "name": "stdout"
        }
      ]
    },
    {
      "cell_type": "code",
      "metadata": {
        "id": "0nxQEbYuKtGj",
        "colab_type": "code",
        "outputId": "68cd84ba-57ff-4bee-e8f7-9ec6a6762384",
        "colab": {
          "base_uri": "https://localhost:8080/",
          "height": 34
        }
      },
      "source": [
        "cd My Drive"
      ],
      "execution_count": 4,
      "outputs": [
        {
          "output_type": "stream",
          "text": [
            "/content/drive/My Drive\n"
          ],
          "name": "stdout"
        }
      ]
    },
    {
      "cell_type": "code",
      "metadata": {
        "id": "ScK3N7gCKzUH",
        "colab_type": "code",
        "outputId": "38883dc8-5def-4e72-9bc8-1ce02ef5f7cc",
        "colab": {
          "base_uri": "https://localhost:8080/",
          "height": 1000
        }
      },
      "source": [
        "ls"
      ],
      "execution_count": 5,
      "outputs": [
        {
          "output_type": "stream",
          "text": [
            " 00253.gslides\n",
            " 00253.pptx\n",
            " 005BBB.gslides\n",
            "'17110145(3)_Shaurya.ipt'\n",
            "'17110145(4)_Shaurya.ipt'\n",
            " 17110145.csv\n",
            " 17110145.gsheet\n",
            "'17110145_ShauryaAgarawal(10) (1).ipt'\n",
            "'17110145_ShauryaAgarawal(10).ipt'\n",
            "'17110145_Shaurya Agarawal(11).ipt.dwg.ipt'\n",
            "'17110145_Shaurya Agarawal(1.).ipt.dwg.ipt'\n",
            "'17110145_Shaurya Agarawal(2).ipt'\n",
            "'17110145_Shaurya Agarawal(4).ipt.dwg.ipt'\n",
            "'17110145_Shaurya Agarawal(5).ipt'\n",
            "'17110145_Shaurya Agarawal(6).ipt'\n",
            "'17110145_Shaurya Agarawal(7).ipt'\n",
            "'17110145_Shaurya Agarawal(8) (1).ipt.dwg.ipt'\n",
            "'17110145_Shaurya Agarawal(8).ipt.dwg.ipt'\n",
            "'17110145_ShauryaAgarawal(9) (1).ipt'\n",
            "'17110145_ShauryaAgarawal(9).ipt'\n",
            "'17110145_Shaurya Agarawal.ipt'\n",
            " 17110145_Shaurya.ipt\n",
            "'Advisory on Pre-registration for students.docx'\n",
            " \u001b[0m\u001b[01;34mAirtable\u001b[0m/\n",
            " app-debug.zip\n",
            "'Application for Employment_Internship-1.docx'\n",
            " Attendance.gsheet\n",
            " Ayush_jap_edited.mp4\n",
            " Ayush_jap.mp4\n",
            " b43.zip\n",
            "'BBC Hackathon.gdoc'\n",
            " biobook_cells_12.png\n",
            "'BRIEF PRESENTATION ON SCHOLARSHIPS & FIN ASSISTANCE - FINAL (1) (1).pptx'\n",
            "'BTech First Year - End-Semester Exam Time-Table-Sem-I-2017-18.gsheet'\n",
            "'Case study.gslides'\n",
            "'CDS Resume Format.doc'\n",
            " \u001b[01;34mChem\u001b[0m/\n",
            "'Chemistry Btech lab Manual-CH 202.pdf'\n",
            " \u001b[01;34mClassroom\u001b[0m/\n",
            " codes.gdoc\n",
            "\u001b[01;34m'Colab Notebooks'\u001b[0m/\n",
            " commands.txt\n",
            "'Copy of Coursera.gdoc'\n",
            "'Copy of CreditTradingCaseStudywithData.gsheet'\n",
            "'Copy of Design_Assigment_Template.gdoc'\n",
            "'Copy of End Semester Examination 2018-19 Sem II.gsheet'\n",
            "'Copy of Final_Assigment_Template.gdoc'\n",
            "'Copy of Meet_Design Assigment- 02.gdoc'\n",
            "'Copy of Midsem  2018-19.gsheet'\n",
            "'Copy of TimeTable-2019-20-Sem-I (1).gsheet'\n",
            "'Copy of TimeTable-2019-20-Sem-I (2).gsheet'\n",
            "'Copy of TimeTable-2019-20-Sem-I.gsheet'\n",
            "'Copy of Weekly_Report2.gdoc'\n",
            "'Copy of working - April 26, 4:37 AM.gdoc'\n",
            "'CreditTradingCaseStudywithData (1).gsheet'\n",
            "'CreditTradingCaseStudywithData (2).gsheet'\n",
            " CreditTradingCaseStudywithData.gsheet\n",
            " CreditTradingCaseStudywithData.xlsx\n",
            "\u001b[01;34m'DATA NLP'\u001b[0m/\n",
            "\u001b[01;34m'DE Shaw'\u001b[0m/\n",
            "'Design Project 2.gslides'\n",
            "'Diffraction refers to various phenomena that occur when a wave encounters an obstacle or a slit.gdoc'\n",
            " \u001b[01;34mDip\u001b[0m/\n",
            " DIP-A3-report-17110145.gdoc\n",
            " DM.gdoc\n",
            "'dm\\.gslides'\n",
            "'DM REPORT.gdoc'\n",
            "'Document from Shaurya.pdf'\n",
            " doneCERTIFICATE-Vidhi.docx\n",
            " doneCERTIFICATE-Vidhi.gdoc\n",
            " \u001b[01;34mdsa\u001b[0m/\n",
            "'Emailing ES103_Notes_RS.pdf'\n",
            "'Emailing MA 101 _rs.pdf'\n",
            "'error analysis (1).gdoc'\n",
            "'error analysis (2).gdoc'\n",
            "'error analysis.docx'\n",
            "'error analysis.gdoc'\n",
            "\u001b[01;34m'Eureka 2017'\u001b[0m/\n",
            " \u001b[01;34mFIFO\u001b[0m/\n",
            " FIFO_poster.gdoc\n",
            "'food inn.gdoc'\n",
            "'Fresnal Biprism.pdf'\n",
            " full_cityscapes_res.zip\n",
            "'Getting started.pdf'\n",
            " Googleapiuse.gscript\n",
            " HallsTheorem.pdf\n",
            "'Harsh(17110058) and Shaurya(17110145).ipt'\n",
            " hotstar_cookies.gdoc\n",
            "'HS 201 Assignment-1.gdoc'\n",
            " Ideas.gsheet\n",
            " \u001b[01;34mignite\u001b[0m/\n",
            "\u001b[01;34m'Ignite app'\u001b[0m/\n",
            "'IGNITE ROBOTWARS.gdoc'\n",
            " IITGN_Shaurya_Agarawal.gslides\n",
            " IMG_20181125_153532.jpg\n",
            " IMG_3268.JPG\n",
            "'IMPROVED DCT COEFFICIENT ANALYSIS FOR FORGERY LOCALIZATION IN JPEG IMAGES Phase-I.gslides'\n",
            "'Income Declaration Form IITGN.pdf'\n",
            " inorganic-chemistry-5th-edition-miessler.pdf\n",
            "'Instructions - Introduction to Electrical Systems.pdf'\n",
            " \u001b[01;34minternship\u001b[0m/\n",
            " \u001b[01;34mInternship\u001b[0m/\n",
            " Internship.gdoc\n",
            "'Internship Report 2019.docx'\n",
            " itm\n",
            "'JOB DESCRIPTIONS x 3 positions.docx'\n",
            "\u001b[01;34m'lab ds'\u001b[0m/\n",
            "\u001b[01;34m'labds boardfiles'\u001b[0m/\n",
            " Lec2_Aug6_2018.PDF\n",
            "'Lec 33-35 (1).gdoc'\n",
            "'Lec 33-35.gdoc'\n",
            "'Lec 33-35.pdf'\n",
            "'Lecture-22-23_Recombinant DNA.pptx'\n",
            "'Lecture-25_DNA fingerprinting.pptx'\n",
            "'Lecture-26_DNA Sequencing.pptx'\n",
            " Lecture-27_Genetics.pptx\n",
            "\u001b[01;34m'Ma 101'\u001b[0m/\n",
            "'MA 202 Lecture Notes 3rd edition.gdoc'\n",
            "'Manifesto_Yash_Patel - YASH PATEL.pdf'\n",
            " market1501.pb\n",
            " Master_Resume_Shaurya_17110145.docx.pdf\n",
            "'Maths .gslides'\n",
            " \u001b[01;34mMatlab_R2017a\u001b[0m/\n",
            "'MCM 2017-18 Circular - B.Tech 2017.pdf'\n",
            " Mya.zip\n",
            " mycopy.gsheet\n",
            " NewApp.gscript\n",
            " NewApp.gsheet\n",
            "\u001b[01;34m'New folder'\u001b[0m/\n",
            " \u001b[01;34mNLP\u001b[0m/\n",
            "\u001b[01;34m'NLP Embeddings'\u001b[0m/\n",
            "'NLP_practical session_1.zip'\n",
            "\u001b[01;34m'NLP Project'\u001b[0m/\n",
            "'No Dues for Completed Internship.docx'\n",
            " notebook.pdf\n",
            "'Object_detection_UAV (1).gslides'\n",
            "'Object_detection_UAV (2).gslides'\n",
            "'Object_detection_UAV (3).gslides'\n",
            "'Object_detection_UAV (4).gslides'\n",
            "'Object_detection_UAV (5).gslides'\n",
            " Object_detection_UAV.gslides\n",
            " Object_detection_UAV.pptx\n",
            " \u001b[01;34mopen\u001b[0m/\n",
            "'part 1.gdoc'\n",
            "'part 2.gdoc'\n",
            " PH102_CoursePlan_2018.pdf\n",
            "'Philosophy Assignment.gdoc'\n",
            "'Photo from Shaurya'\n",
            " \u001b[01;34mPhotos\u001b[0m/\n",
            " Physics.gdoc\n",
            " Physics_Lab_Batches_2018.gdoc\n",
            " Physics_Lab_Batches_2018.pdf\n",
            "'physics report.gdoc'\n",
            "'Portfolio (1).gslides'\n",
            "'Portfolio (2).gslides'\n",
            " Portfolio.gslides\n",
            " pptdd.gdoc\n",
            " pretrained_weights.zip\n",
            "'Project-2_Void (1).gslides'\n",
            "'Project-2_Void (2).gslides'\n",
            " Project-2_Void.gslides\n",
            " Project-2_Void.pptx\n",
            "\u001b[01;34m'Project Course'\u001b[0m/\n",
            "'Project Wireframes.gslides'\n",
            "'Prototyping presentation (1).gslides'\n",
            "'Prototyping presentation.gslides'\n",
            "'Report (1).gdoc'\n",
            " Report.gdoc\n",
            "'Research Statement.gdoc'\n",
            " \u001b[01;34mResume\u001b[0m/\n",
            "'Resume_Shaurya_17110145 (10).pdf'\n",
            "'Resume_Shaurya_17110145 (11).pdf'\n",
            "'Resume_Shaurya_17110145 (12).pdf'\n",
            "'Resume_Shaurya_17110145 (13).pdf'\n",
            "'Resume_Shaurya_17110145 (14).pdf'\n",
            "'Resume_Shaurya_17110145 (15).pdf'\n",
            "'Resume_Shaurya_17110145 (16).pdf'\n",
            "'Resume_Shaurya_17110145 (17).pdf'\n",
            "'Resume_Shaurya_17110145 (18).pdf'\n",
            "'Resume_Shaurya_17110145 (1).pdf'\n",
            "'Resume_Shaurya_17110145 (2).pdf'\n",
            "'Resume_Shaurya_17110145 (3).pdf'\n",
            "'Resume_Shaurya_17110145 (4).pdf'\n",
            "'Resume_Shaurya_17110145 (5).pdf'\n",
            "'Resume_Shaurya_17110145 (6).pdf'\n",
            "'Resume_Shaurya_17110145 (7).pdf'\n",
            "'Resume_Shaurya_17110145 (8).pdf'\n",
            "'Resume_Shaurya_17110145 (9).pdf'\n",
            " Resume_Shaurya_17110145.gdoc\n",
            " Resume_Shaurya_17110145.pdf\n",
            "'Resume_Shaurya_17110145 - SHAURYA AGARAWAL 17110145 (1).pdf'\n",
            "'Resume_Shaurya_17110145 - SHAURYA AGARAWAL 17110145 (2).pdf'\n",
            "'Resume_Shaurya_17110145 - SHAURYA AGARAWAL 17110145 (3).pdf'\n",
            "'Resume_Shaurya_17110145 - SHAURYA AGARAWAL 17110145 (4).pdf'\n",
            "'Resume_Shaurya_17110145 - SHAURYA AGARAWAL 17110145.pdf'\n",
            "'Resume_Shaurya Agarawal (1).pdf'\n",
            "'Resume_Shaurya Agarawal (2).pdf'\n",
            "'Resume_Shaurya Agarawal.pdf'\n",
            " Resume_Shaurya_Agarawal.pdf\n",
            "'Ronak Kaoshik Resume.pdf'\n",
            "'Screenshot (119).png'\n",
            "'Screenshot (120).png'\n",
            "'Screenshot (3).png'\n",
            " SelfEvaluation17110145.gdoc\n",
            " semantic_drone_dataset_semantics_v1.1.zip\n",
            "'Shaurya_17110145(3).ipt'\n",
            "'Shaurya_17110145(4).ipt'\n",
            " Shaurya_17110145.ipt\n",
            "'SIMPLIFIED TIME TABLE SEM-II - Sheet1 (2).pdf'\n",
            " skipnet_shufflenet.zip\n",
            " \u001b[01;34mSmeet\u001b[0m/\n",
            "'SOP SRIP.gdoc'\n",
            " ss2.jpg\n",
            " ss.jpg\n",
            " st2.jpg\n",
            " st.jpg\n",
            " syncfifo.v\n",
            " \u001b[01;34mTeraco\u001b[0m/\n",
            " \u001b[01;34mterashar\u001b[0m/\n",
            " \u001b[01;34mTest\u001b[0m/\n",
            "'THE JERICHO.pdf'\n",
            " TimeTable-2017-18-Sem-I.xlsx\n",
            "'TIME TABLE BTECH 17.xlsx'\n",
            "'Tutorial Sheet-1, ES 103.pdf'\n",
            "'UAE exchange.gdoc'\n",
            "'Ubuntu18.04-OS lab.ova'\n",
            "'Ultrasonic Diffraction.pdf'\n",
            "'Untitled Diagram.drawio'\n",
            "'Untitled document (10).gdoc'\n",
            "'Untitled document (11).gdoc'\n",
            "'Untitled document (12).gdoc'\n",
            "'Untitled document (1).gdoc'\n",
            "'Untitled document (2).gdoc'\n",
            "'Untitled document (3).gdoc'\n",
            "'Untitled document (4).gdoc'\n",
            "'Untitled document (5).gdoc'\n",
            "'Untitled document (6).gdoc'\n",
            "'Untitled document (7).gdoc'\n",
            "'Untitled document (8).gdoc'\n",
            "'Untitled document (9).gdoc'\n",
            "'Untitled document.gdoc'\n",
            "'Untitled presentation (1).gslides'\n",
            "'Untitled presentation.gslides'\n",
            "'Untitled Site.gsite'\n",
            "'Untitled spreadsheet.gsheet'\n",
            " Weekly_Report1_c.gdoc\n",
            "'Weekly Report New.gdoc'\n",
            " working.gdoc\n",
            " Write-up.gdoc\n"
          ],
          "name": "stdout"
        }
      ]
    },
    {
      "cell_type": "code",
      "metadata": {
        "id": "tcqYQyLvK74m",
        "colab_type": "code",
        "outputId": "ee83d2d8-0557-463b-a7c1-5a423463d90b",
        "colab": {
          "base_uri": "https://localhost:8080/",
          "height": 34
        }
      },
      "source": [
        "cd NLP\\ Embeddings"
      ],
      "execution_count": 6,
      "outputs": [
        {
          "output_type": "stream",
          "text": [
            "/content/drive/My Drive/NLP Embeddings\n"
          ],
          "name": "stdout"
        }
      ]
    },
    {
      "cell_type": "code",
      "metadata": {
        "id": "w0iupD94K_NN",
        "colab_type": "code",
        "outputId": "d6f77feb-1778-4a93-92a2-4e0f8aa640a3",
        "colab": {
          "base_uri": "https://localhost:8080/",
          "height": 102
        }
      },
      "source": [
        "ls"
      ],
      "execution_count": 7,
      "outputs": [
        {
          "output_type": "stream",
          "text": [
            "BERT_Fine_Tuning_Sentence_Classification.ipynb        embed_test_copy.npy\n",
            "BERT_Fine_Tuning_Sentence_Classification_where.ipynb  Tatti-Copy1.ipynb\n",
            "bert_test.npy                                         Tatti-Copy3.ipynb\n",
            "bert_train.npy                                        ytest.npy\n",
            "embed_copy.npy                                        ytrain.npy\n"
          ],
          "name": "stdout"
        }
      ]
    },
    {
      "cell_type": "code",
      "metadata": {
        "id": "jbKXN1Ilb9qh",
        "colab_type": "code",
        "colab": {
          "base_uri": "https://localhost:8080/",
          "height": 170
        },
        "outputId": "8fd1f28a-a39f-426e-8c27-f8b44d4f51d2"
      },
      "source": [
        "!pip install keras-self-attention"
      ],
      "execution_count": 8,
      "outputs": [
        {
          "output_type": "stream",
          "text": [
            "Requirement already satisfied: keras-self-attention in /usr/local/lib/python3.6/dist-packages (0.42.0)\n",
            "Requirement already satisfied: Keras in /usr/local/lib/python3.6/dist-packages (from keras-self-attention) (2.2.5)\n",
            "Requirement already satisfied: numpy in /usr/local/lib/python3.6/dist-packages (from keras-self-attention) (1.17.4)\n",
            "Requirement already satisfied: six>=1.9.0 in /usr/local/lib/python3.6/dist-packages (from Keras->keras-self-attention) (1.12.0)\n",
            "Requirement already satisfied: scipy>=0.14 in /usr/local/lib/python3.6/dist-packages (from Keras->keras-self-attention) (1.3.2)\n",
            "Requirement already satisfied: h5py in /usr/local/lib/python3.6/dist-packages (from Keras->keras-self-attention) (2.8.0)\n",
            "Requirement already satisfied: keras-preprocessing>=1.1.0 in /usr/local/lib/python3.6/dist-packages (from Keras->keras-self-attention) (1.1.0)\n",
            "Requirement already satisfied: pyyaml in /usr/local/lib/python3.6/dist-packages (from Keras->keras-self-attention) (3.13)\n",
            "Requirement already satisfied: keras-applications>=1.0.8 in /usr/local/lib/python3.6/dist-packages (from Keras->keras-self-attention) (1.0.8)\n"
          ],
          "name": "stdout"
        }
      ]
    },
    {
      "cell_type": "code",
      "metadata": {
        "id": "0RgFHpbpcV0E",
        "colab_type": "code",
        "colab": {
          "base_uri": "https://localhost:8080/",
          "height": 80
        },
        "outputId": "edc21f9f-baa2-419c-b8fd-a556662c89ff"
      },
      "source": [
        "import numpy as np\n",
        "import re\n",
        "from keras.models import Sequential\n",
        "from keras.layers import Dense\n",
        "from keras.layers import Dropout\n",
        "from keras.layers import LSTM, Bidirectional,Flatten,GRU\n",
        "from keras.layers import Embedding\n",
        "from keras.layers import SimpleRNN\n",
        "from keras.utils import np_utils\n",
        "from keras.callbacks import ModelCheckpoint\n",
        "from keras.preprocessing.text import Tokenizer\n",
        "from keras import backend as K\n",
        "from keras_self_attention import SeqSelfAttention\n",
        "np_emb_train=np.load(\"bert_train.npy\",allow_pickle=1)\n",
        "np_emb_test=np.load(\"bert_test.npy\",allow_pickle=1)"
      ],
      "execution_count": 9,
      "outputs": [
        {
          "output_type": "stream",
          "text": [
            "Using TensorFlow backend.\n"
          ],
          "name": "stderr"
        },
        {
          "output_type": "display_data",
          "data": {
            "text/html": [
              "<p style=\"color: red;\">\n",
              "The default version of TensorFlow in Colab will soon switch to TensorFlow 2.x.<br>\n",
              "We recommend you <a href=\"https://www.tensorflow.org/guide/migrate\" target=\"_blank\">upgrade</a> now \n",
              "or ensure your notebook will continue to use TensorFlow 1.x via the <code>%tensorflow_version 1.x</code> magic:\n",
              "<a href=\"https://colab.research.google.com/notebooks/tensorflow_version.ipynb\" target=\"_blank\">more info</a>.</p>\n"
            ],
            "text/plain": [
              "<IPython.core.display.HTML object>"
            ]
          },
          "metadata": {
            "tags": []
          }
        }
      ]
    },
    {
      "cell_type": "code",
      "metadata": {
        "id": "YBz0KYBDikHE",
        "colab_type": "code",
        "colab": {}
      },
      "source": [
        "def preprocess(data):\n",
        "  tweets=[]\n",
        "  sentiments=[]\n",
        "  arr=[]\n",
        "  c=0\n",
        "  for i in data:\n",
        "    if(i==\"\\n\"):\n",
        "      tweets.append(arr)\n",
        "      arr=[]\n",
        "    else:\n",
        "      temp=i.split(\"\\t\")\n",
        "      if(len(temp)==3):\n",
        "        sentiments.append(temp[2])\n",
        "      arr.append(temp[0])\n",
        "  tweet=[]\n",
        "  for i in tweets:\n",
        "    temp=\"\"\n",
        "    for j in i:\n",
        "      temp+=j\n",
        "      temp+=\" \"\n",
        "    tweet.append(temp[:-1])\n",
        "  tweets=tweet \n",
        "  sent=[]\n",
        "  for i in sentiments:\n",
        "    temp=i[:-1]\n",
        "    if(temp==\"neutral\"):\n",
        "      sent.append(0)\n",
        "    elif(temp==\"positive\"):\n",
        "      sent.append(1)\n",
        "    else:\n",
        "      sent.append(2)  \n",
        "\n",
        "  return(tweets,sent)"
      ],
      "execution_count": 0,
      "outputs": []
    },
    {
      "cell_type": "code",
      "metadata": {
        "id": "AFpMlIADcyIE",
        "colab_type": "code",
        "outputId": "ce14389d-3eb6-4350-a63c-908aca860604",
        "colab": {
          "base_uri": "https://localhost:8080/",
          "height": 51
        }
      },
      "source": [
        "import torch\n",
        "from torch.nn.utils.rnn import pad_sequence\n",
        "print(np_emb_train[0].shape)  \n",
        "print(np_emb_test.shape)  \n",
        "X_train = np_emb_train\n",
        "X_test = np_emb_test\n",
        "emb_list = []\n",
        "for i in X_train:\n",
        "  emb_list.append(torch.tensor(i[:31]))\n",
        "X_train = pad_sequence(emb_list, batch_first=True)\n",
        "#X_test = preprocessing.sequence.pad_sequences(X_test, maxlen=500)\n",
        "emb_list = []\n",
        "for i in X_test:\n",
        "  emb_list.append(torch.tensor(i[:31]))\n",
        "X_test = pad_sequence(emb_list, batch_first=True)"
      ],
      "execution_count": 11,
      "outputs": [
        {
          "output_type": "stream",
          "text": [
            "(18, 3072)\n",
            "(1869,)\n"
          ],
          "name": "stdout"
        }
      ]
    },
    {
      "cell_type": "code",
      "metadata": {
        "id": "pHtoZ9XqdWnq",
        "colab_type": "code",
        "colab": {}
      },
      "source": [
        "l=[]\n",
        "m=[]\n",
        "np_emb_train1=np.load(\"embed_copy.npy\",allow_pickle=1)\n",
        "np_emb_test1=np.load(\"embed_test_copy.npy\",allow_pickle=1)\n",
        "\n",
        "embeddings_polarity=np_emb_train1.tolist()\n",
        "for i in range(len(embeddings_polarity)):\n",
        "    l.append(embeddings_polarity[i][0])\n",
        "    if embeddings_polarity[i][1].lower()=='positive':\n",
        "        m.append(1)\n",
        "    elif embeddings_polarity[i][1].lower()=='negative':\n",
        "        m.append(2)\n",
        "    else:\n",
        "        m.append(0)\n",
        "l1=[]\n",
        "m1=[]\n",
        "embeddings_test=np_emb_test1.tolist()\n",
        "for i in range(len(embeddings_test)):\n",
        "    l1.append(embeddings_test[i][0])\n",
        "    if embeddings_test[i][1].lower()=='positive':\n",
        "        m1.append(1)\n",
        "    elif embeddings_test[i][1].lower()=='negative':\n",
        "        m1.append(2)\n",
        "    else:\n",
        "        m1.append(0)"
      ],
      "execution_count": 0,
      "outputs": []
    },
    {
      "cell_type": "code",
      "metadata": {
        "id": "-vMUNqfIdg9u",
        "colab_type": "code",
        "colab": {}
      },
      "source": [
        "Y_train=np.load(\"ytrain.npy\")\n",
        "Y_test=np.load(\"ytest.npy\")"
      ],
      "execution_count": 0,
      "outputs": []
    },
    {
      "cell_type": "code",
      "metadata": {
        "id": "L2VyLUnddisi",
        "colab_type": "code",
        "outputId": "740df0ad-816a-4c21-fb04-fdc317c7a205",
        "colab": {
          "base_uri": "https://localhost:8080/",
          "height": 751
        }
      },
      "source": [
        "def recall_m(y_true, y_pred):\n",
        "        true_positives = K.sum(K.round(K.clip(y_true * y_pred, 0, 1)))\n",
        "        possible_positives = K.sum(K.round(K.clip(y_true, 0, 1)))\n",
        "        recall = true_positives / (possible_positives + K.epsilon())\n",
        "        return recall\n",
        "\n",
        "def precision_m(y_true, y_pred):\n",
        "        true_positives = K.sum(K.round(K.clip(y_true * y_pred, 0, 1)))\n",
        "        predicted_positives = K.sum(K.round(K.clip(y_pred, 0, 1)))\n",
        "        precision = true_positives / (predicted_positives + K.epsilon())\n",
        "        return precision\n",
        "\n",
        "def f1_m(y_true, y_pred):\n",
        "    precision = precision_m(y_true, y_pred)\n",
        "    recall = recall_m(y_true, y_pred)\n",
        "    return 2*((precision*recall)/(precision+recall+K.epsilon()))\n",
        "\n",
        "def LSTM_model():\n",
        "    model = Sequential()\n",
        "    model.add(Bidirectional(LSTM(128,input_shape=(35,3072),return_sequences=1)))\n",
        "    model.add(Dropout(0.2))\n",
        "    model.add(SeqSelfAttention(attention_width=15,attention_activation='sigmoid'))\n",
        "    model.add(Dense(3, activation='softmax'))\n",
        "    model.add(GRU(20))\n",
        "    model.add(Dropout(0.2))\n",
        "    model.add(Dense(3, activation='softmax'))\n",
        "    model.compile(loss='categorical_crossentropy', optimizer='adam',metrics=['acc',f1_m,precision_m, recall_m])\n",
        "    #print(model.summary())\n",
        "    filepath=\"lstm.hdf5\"\n",
        "    checkpoint = ModelCheckpoint(filepath, monitor='loss', verbose=1, save_best_only=True, mode='min')\n",
        "    callbacks_list = [checkpoint]\n",
        "    model.fit(X_train.numpy(), Y_train, epochs=10, batch_size=256,callbacks=callbacks_list)\n",
        "    return model\n",
        "model=LSTM_model()"
      ],
      "execution_count": 16,
      "outputs": [
        {
          "output_type": "stream",
          "text": [
            "WARNING:tensorflow:From /usr/local/lib/python3.6/dist-packages/keras/backend/tensorflow_backend.py:4479: The name tf.truncated_normal is deprecated. Please use tf.random.truncated_normal instead.\n",
            "\n",
            "Epoch 1/10\n",
            "15131/15131 [==============================] - 14s 918us/step - loss: 1.0310 - acc: 0.4406 - f1_m: 0.0720 - precision_m: 0.2476 - recall_m: 0.0443\n",
            "\n",
            "Epoch 00001: loss improved from inf to 1.03095, saving model to lstm.hdf5\n",
            "Epoch 2/10\n",
            "15131/15131 [==============================] - 11s 750us/step - loss: 0.9269 - acc: 0.5372 - f1_m: 0.3894 - precision_m: 0.6213 - recall_m: 0.2880\n",
            "\n",
            "Epoch 00002: loss improved from 1.03095 to 0.92691, saving model to lstm.hdf5\n",
            "Epoch 3/10\n",
            "15131/15131 [==============================] - 11s 746us/step - loss: 0.8730 - acc: 0.5756 - f1_m: 0.4673 - precision_m: 0.6564 - recall_m: 0.3653\n",
            "\n",
            "Epoch 00003: loss improved from 0.92691 to 0.87302, saving model to lstm.hdf5\n",
            "Epoch 4/10\n",
            "15131/15131 [==============================] - 11s 755us/step - loss: 0.8374 - acc: 0.6027 - f1_m: 0.5258 - precision_m: 0.6622 - recall_m: 0.4376\n",
            "\n",
            "Epoch 00004: loss improved from 0.87302 to 0.83741, saving model to lstm.hdf5\n",
            "Epoch 5/10\n",
            "15131/15131 [==============================] - 12s 770us/step - loss: 0.8010 - acc: 0.6319 - f1_m: 0.5899 - precision_m: 0.6728 - recall_m: 0.5259\n",
            "\n",
            "Epoch 00005: loss improved from 0.83741 to 0.80098, saving model to lstm.hdf5\n",
            "Epoch 6/10\n",
            "15131/15131 [==============================] - 12s 761us/step - loss: 0.7529 - acc: 0.6666 - f1_m: 0.6441 - precision_m: 0.6996 - recall_m: 0.5971\n",
            "\n",
            "Epoch 00006: loss improved from 0.80098 to 0.75291, saving model to lstm.hdf5\n",
            "Epoch 7/10\n",
            "15131/15131 [==============================] - 11s 750us/step - loss: 0.7239 - acc: 0.6807 - f1_m: 0.6638 - precision_m: 0.7046 - recall_m: 0.6277\n",
            "\n",
            "Epoch 00007: loss improved from 0.75291 to 0.72389, saving model to lstm.hdf5\n",
            "Epoch 8/10\n",
            "15131/15131 [==============================] - 11s 752us/step - loss: 0.6574 - acc: 0.7212 - f1_m: 0.7125 - precision_m: 0.7412 - recall_m: 0.6862\n",
            "\n",
            "Epoch 00008: loss improved from 0.72389 to 0.65743, saving model to lstm.hdf5\n",
            "Epoch 9/10\n",
            "15131/15131 [==============================] - 11s 738us/step - loss: 0.5994 - acc: 0.7527 - f1_m: 0.7452 - precision_m: 0.7699 - recall_m: 0.7222\n",
            "\n",
            "Epoch 00009: loss improved from 0.65743 to 0.59939, saving model to lstm.hdf5\n",
            "Epoch 10/10\n",
            "15131/15131 [==============================] - 11s 737us/step - loss: 0.5581 - acc: 0.7750 - f1_m: 0.7703 - precision_m: 0.7899 - recall_m: 0.7517\n",
            "\n",
            "Epoch 00010: loss improved from 0.59939 to 0.55807, saving model to lstm.hdf5\n"
          ],
          "name": "stdout"
        }
      ]
    },
    {
      "cell_type": "code",
      "metadata": {
        "id": "x37hlYxkdk0i",
        "colab_type": "code",
        "colab": {
          "base_uri": "https://localhost:8080/",
          "height": 34
        },
        "outputId": "139e5280-fb01-42ed-b435-58991b44a8ca"
      },
      "source": [
        "loss, accuracy, f1_score, precision, recall = model.evaluate(X_test, Y_test, verbose=0)\n",
        "accuracy, f1_score, precision"
      ],
      "execution_count": 18,
      "outputs": [
        {
          "output_type": "execute_result",
          "data": {
            "text/plain": [
              "(0.5280898877999054, 0.5249822059374177, 0.5378145287864792)"
            ]
          },
          "metadata": {
            "tags": []
          },
          "execution_count": 18
        }
      ]
    },
    {
      "cell_type": "code",
      "metadata": {
        "id": "uOYsbRYFheqD",
        "colab_type": "code",
        "colab": {}
      },
      "source": [
        ""
      ],
      "execution_count": 0,
      "outputs": []
    }
  ]
}