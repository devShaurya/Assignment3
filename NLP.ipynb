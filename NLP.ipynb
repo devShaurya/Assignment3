{
  "nbformat": 4,
  "nbformat_minor": 0,
  "metadata": {
    "colab": {
      "name": "NLP.ipynb",
      "provenance": [],
      "collapsed_sections": [],
      "machine_shape": "hm",
      "include_colab_link": true
    },
    "kernelspec": {
      "name": "python3",
      "display_name": "Python 3"
    },
    "accelerator": "GPU"
  },
  "cells": [
    {
      "cell_type": "markdown",
      "metadata": {
        "id": "view-in-github",
        "colab_type": "text"
      },
      "source": [
        "<a href=\"https://colab.research.google.com/github/devShaurya/Assignment3/blob/master/NLP.ipynb\" target=\"_parent\"><img src=\"https://colab.research.google.com/assets/colab-badge.svg\" alt=\"Open In Colab\"/></a>"
      ]
    },
    {
      "cell_type": "code",
      "metadata": {
        "id": "GdGJLEPFKbVt",
        "colab_type": "code",
        "outputId": "9a15e3ef-c9b1-4955-f9c3-4045771f3768",
        "colab": {
          "base_uri": "https://localhost:8080/",
          "height": 34
        }
      },
      "source": [
        "from google.colab import drive\n",
        "drive.mount('/content/drive')"
      ],
      "execution_count": 1,
      "outputs": [
        {
          "output_type": "stream",
          "text": [
            "Drive already mounted at /content/drive; to attempt to forcibly remount, call drive.mount(\"/content/drive\", force_remount=True).\n"
          ],
          "name": "stdout"
        }
      ]
    },
    {
      "cell_type": "code",
      "metadata": {
        "id": "dsPVVz_QKn63",
        "colab_type": "code",
        "outputId": "26ebbb6a-8c9b-4a40-ce4e-8d4d3dd80a90",
        "colab": {
          "base_uri": "https://localhost:8080/",
          "height": 34
        }
      },
      "source": [
        "cd drive"
      ],
      "execution_count": 2,
      "outputs": [
        {
          "output_type": "stream",
          "text": [
            "/content/drive\n"
          ],
          "name": "stdout"
        }
      ]
    },
    {
      "cell_type": "code",
      "metadata": {
        "id": "3D6H6zA8Kpbk",
        "colab_type": "code",
        "outputId": "2b91ba6d-fdec-47f6-a742-1d71c52cfa4c",
        "colab": {
          "base_uri": "https://localhost:8080/",
          "height": 34
        }
      },
      "source": [
        "ls"
      ],
      "execution_count": 3,
      "outputs": [
        {
          "output_type": "stream",
          "text": [
            "\u001b[0m\u001b[01;34m'My Drive'\u001b[0m/  \u001b[01;34m'Shared drives'\u001b[0m/\n"
          ],
          "name": "stdout"
        }
      ]
    },
    {
      "cell_type": "code",
      "metadata": {
        "id": "0nxQEbYuKtGj",
        "colab_type": "code",
        "outputId": "68cd84ba-57ff-4bee-e8f7-9ec6a6762384",
        "colab": {
          "base_uri": "https://localhost:8080/",
          "height": 34
        }
      },
      "source": [
        "cd My Drive"
      ],
      "execution_count": 4,
      "outputs": [
        {
          "output_type": "stream",
          "text": [
            "/content/drive/My Drive\n"
          ],
          "name": "stdout"
        }
      ]
    },
    {
      "cell_type": "code",
      "metadata": {
        "id": "ScK3N7gCKzUH",
        "colab_type": "code",
        "outputId": "38883dc8-5def-4e72-9bc8-1ce02ef5f7cc",
        "colab": {
          "base_uri": "https://localhost:8080/",
          "height": 1000
        }
      },
      "source": [
        "ls"
      ],
      "execution_count": 5,
      "outputs": [
        {
          "output_type": "stream",
          "text": [
            " 00253.gslides\n",
            " 00253.pptx\n",
            " 005BBB.gslides\n",
            "'17110145(3)_Shaurya.ipt'\n",
            "'17110145(4)_Shaurya.ipt'\n",
            " 17110145.csv\n",
            " 17110145.gsheet\n",
            "'17110145_ShauryaAgarawal(10) (1).ipt'\n",
            "'17110145_ShauryaAgarawal(10).ipt'\n",
            "'17110145_Shaurya Agarawal(11).ipt.dwg.ipt'\n",
            "'17110145_Shaurya Agarawal(1.).ipt.dwg.ipt'\n",
            "'17110145_Shaurya Agarawal(2).ipt'\n",
            "'17110145_Shaurya Agarawal(4).ipt.dwg.ipt'\n",
            "'17110145_Shaurya Agarawal(5).ipt'\n",
            "'17110145_Shaurya Agarawal(6).ipt'\n",
            "'17110145_Shaurya Agarawal(7).ipt'\n",
            "'17110145_Shaurya Agarawal(8) (1).ipt.dwg.ipt'\n",
            "'17110145_Shaurya Agarawal(8).ipt.dwg.ipt'\n",
            "'17110145_ShauryaAgarawal(9) (1).ipt'\n",
            "'17110145_ShauryaAgarawal(9).ipt'\n",
            "'17110145_Shaurya Agarawal.ipt'\n",
            " 17110145_Shaurya.ipt\n",
            "'Advisory on Pre-registration for students.docx'\n",
            " \u001b[0m\u001b[01;34mAirtable\u001b[0m/\n",
            " app-debug.zip\n",
            "'Application for Employment_Internship-1.docx'\n",
            " Attendance.gsheet\n",
            " Ayush_jap_edited.mp4\n",
            " Ayush_jap.mp4\n",
            " b43.zip\n",
            "'BBC Hackathon.gdoc'\n",
            " biobook_cells_12.png\n",
            "'BRIEF PRESENTATION ON SCHOLARSHIPS & FIN ASSISTANCE - FINAL (1) (1).pptx'\n",
            "'BTech First Year - End-Semester Exam Time-Table-Sem-I-2017-18.gsheet'\n",
            "'Case study.gslides'\n",
            "'CDS Resume Format.doc'\n",
            " \u001b[01;34mChem\u001b[0m/\n",
            "'Chemistry Btech lab Manual-CH 202.pdf'\n",
            " \u001b[01;34mClassroom\u001b[0m/\n",
            " codes.gdoc\n",
            "\u001b[01;34m'Colab Notebooks'\u001b[0m/\n",
            " commands.txt\n",
            "'Copy of Coursera.gdoc'\n",
            "'Copy of CreditTradingCaseStudywithData.gsheet'\n",
            "'Copy of Design_Assigment_Template.gdoc'\n",
            "'Copy of End Semester Examination 2018-19 Sem II.gsheet'\n",
            "'Copy of Final_Assigment_Template.gdoc'\n",
            "'Copy of Meet_Design Assigment- 02.gdoc'\n",
            "'Copy of Midsem  2018-19.gsheet'\n",
            "'Copy of TimeTable-2019-20-Sem-I (1).gsheet'\n",
            "'Copy of TimeTable-2019-20-Sem-I (2).gsheet'\n",
            "'Copy of TimeTable-2019-20-Sem-I.gsheet'\n",
            "'Copy of Weekly_Report2.gdoc'\n",
            "'Copy of working - April 26, 4:37 AM.gdoc'\n",
            "'CreditTradingCaseStudywithData (1).gsheet'\n",
            "'CreditTradingCaseStudywithData (2).gsheet'\n",
            " CreditTradingCaseStudywithData.gsheet\n",
            " CreditTradingCaseStudywithData.xlsx\n",
            "\u001b[01;34m'DATA NLP'\u001b[0m/\n",
            "\u001b[01;34m'DE Shaw'\u001b[0m/\n",
            "'Design Project 2.gslides'\n",
            "'Diffraction refers to various phenomena that occur when a wave encounters an obstacle or a slit.gdoc'\n",
            " \u001b[01;34mDip\u001b[0m/\n",
            " DIP-A3-report-17110145.gdoc\n",
            " DM.gdoc\n",
            "'dm\\.gslides'\n",
            "'DM REPORT.gdoc'\n",
            "'Document from Shaurya.pdf'\n",
            " doneCERTIFICATE-Vidhi.docx\n",
            " doneCERTIFICATE-Vidhi.gdoc\n",
            " \u001b[01;34mdsa\u001b[0m/\n",
            "'Emailing ES103_Notes_RS.pdf'\n",
            "'Emailing MA 101 _rs.pdf'\n",
            "'error analysis (1).gdoc'\n",
            "'error analysis (2).gdoc'\n",
            "'error analysis.docx'\n",
            "'error analysis.gdoc'\n",
            "\u001b[01;34m'Eureka 2017'\u001b[0m/\n",
            " \u001b[01;34mFIFO\u001b[0m/\n",
            " FIFO_poster.gdoc\n",
            "'food inn.gdoc'\n",
            "'Fresnal Biprism.pdf'\n",
            " full_cityscapes_res.zip\n",
            "'Getting started.pdf'\n",
            " Googleapiuse.gscript\n",
            " HallsTheorem.pdf\n",
            "'Harsh(17110058) and Shaurya(17110145).ipt'\n",
            " hotstar_cookies.gdoc\n",
            "'HS 201 Assignment-1.gdoc'\n",
            " Ideas.gsheet\n",
            " \u001b[01;34mignite\u001b[0m/\n",
            "\u001b[01;34m'Ignite app'\u001b[0m/\n",
            "'IGNITE ROBOTWARS.gdoc'\n",
            " IITGN_Shaurya_Agarawal.gslides\n",
            " IMG_20181125_153532.jpg\n",
            " IMG_3268.JPG\n",
            "'IMPROVED DCT COEFFICIENT ANALYSIS FOR FORGERY LOCALIZATION IN JPEG IMAGES Phase-I.gslides'\n",
            "'Income Declaration Form IITGN.pdf'\n",
            " inorganic-chemistry-5th-edition-miessler.pdf\n",
            "'Instructions - Introduction to Electrical Systems.pdf'\n",
            " \u001b[01;34minternship\u001b[0m/\n",
            " \u001b[01;34mInternship\u001b[0m/\n",
            " Internship.gdoc\n",
            "'Internship Report 2019.docx'\n",
            " itm\n",
            "'JOB DESCRIPTIONS x 3 positions.docx'\n",
            "\u001b[01;34m'lab ds'\u001b[0m/\n",
            "\u001b[01;34m'labds boardfiles'\u001b[0m/\n",
            " Lec2_Aug6_2018.PDF\n",
            "'Lec 33-35 (1).gdoc'\n",
            "'Lec 33-35.gdoc'\n",
            "'Lec 33-35.pdf'\n",
            "'Lecture-22-23_Recombinant DNA.pptx'\n",
            "'Lecture-25_DNA fingerprinting.pptx'\n",
            "'Lecture-26_DNA Sequencing.pptx'\n",
            " Lecture-27_Genetics.pptx\n",
            "\u001b[01;34m'Ma 101'\u001b[0m/\n",
            "'MA 202 Lecture Notes 3rd edition.gdoc'\n",
            "'Manifesto_Yash_Patel - YASH PATEL.pdf'\n",
            " market1501.pb\n",
            " Master_Resume_Shaurya_17110145.docx.pdf\n",
            "'Maths .gslides'\n",
            " \u001b[01;34mMatlab_R2017a\u001b[0m/\n",
            "'MCM 2017-18 Circular - B.Tech 2017.pdf'\n",
            " Mya.zip\n",
            " mycopy.gsheet\n",
            " NewApp.gscript\n",
            " NewApp.gsheet\n",
            "\u001b[01;34m'New folder'\u001b[0m/\n",
            " \u001b[01;34mNLP\u001b[0m/\n",
            "\u001b[01;34m'NLP Embeddings'\u001b[0m/\n",
            "'NLP_practical session_1.zip'\n",
            "\u001b[01;34m'NLP Project'\u001b[0m/\n",
            "'No Dues for Completed Internship.docx'\n",
            " notebook.pdf\n",
            "'Object_detection_UAV (1).gslides'\n",
            "'Object_detection_UAV (2).gslides'\n",
            "'Object_detection_UAV (3).gslides'\n",
            "'Object_detection_UAV (4).gslides'\n",
            "'Object_detection_UAV (5).gslides'\n",
            " Object_detection_UAV.gslides\n",
            " Object_detection_UAV.pptx\n",
            " \u001b[01;34mopen\u001b[0m/\n",
            "'part 1.gdoc'\n",
            "'part 2.gdoc'\n",
            " PH102_CoursePlan_2018.pdf\n",
            "'Philosophy Assignment.gdoc'\n",
            "'Photo from Shaurya'\n",
            " \u001b[01;34mPhotos\u001b[0m/\n",
            " Physics.gdoc\n",
            " Physics_Lab_Batches_2018.gdoc\n",
            " Physics_Lab_Batches_2018.pdf\n",
            "'physics report.gdoc'\n",
            "'Portfolio (1).gslides'\n",
            "'Portfolio (2).gslides'\n",
            " Portfolio.gslides\n",
            " pptdd.gdoc\n",
            " pretrained_weights.zip\n",
            "'Project-2_Void (1).gslides'\n",
            "'Project-2_Void (2).gslides'\n",
            " Project-2_Void.gslides\n",
            " Project-2_Void.pptx\n",
            "\u001b[01;34m'Project Course'\u001b[0m/\n",
            "'Project Wireframes.gslides'\n",
            "'Prototyping presentation (1).gslides'\n",
            "'Prototyping presentation.gslides'\n",
            "'Report (1).gdoc'\n",
            " Report.gdoc\n",
            "'Research Statement.gdoc'\n",
            " \u001b[01;34mResume\u001b[0m/\n",
            "'Resume_Shaurya_17110145 (10).pdf'\n",
            "'Resume_Shaurya_17110145 (11).pdf'\n",
            "'Resume_Shaurya_17110145 (12).pdf'\n",
            "'Resume_Shaurya_17110145 (13).pdf'\n",
            "'Resume_Shaurya_17110145 (14).pdf'\n",
            "'Resume_Shaurya_17110145 (15).pdf'\n",
            "'Resume_Shaurya_17110145 (16).pdf'\n",
            "'Resume_Shaurya_17110145 (17).pdf'\n",
            "'Resume_Shaurya_17110145 (18).pdf'\n",
            "'Resume_Shaurya_17110145 (1).pdf'\n",
            "'Resume_Shaurya_17110145 (2).pdf'\n",
            "'Resume_Shaurya_17110145 (3).pdf'\n",
            "'Resume_Shaurya_17110145 (4).pdf'\n",
            "'Resume_Shaurya_17110145 (5).pdf'\n",
            "'Resume_Shaurya_17110145 (6).pdf'\n",
            "'Resume_Shaurya_17110145 (7).pdf'\n",
            "'Resume_Shaurya_17110145 (8).pdf'\n",
            "'Resume_Shaurya_17110145 (9).pdf'\n",
            " Resume_Shaurya_17110145.gdoc\n",
            " Resume_Shaurya_17110145.pdf\n",
            "'Resume_Shaurya_17110145 - SHAURYA AGARAWAL 17110145 (1).pdf'\n",
            "'Resume_Shaurya_17110145 - SHAURYA AGARAWAL 17110145 (2).pdf'\n",
            "'Resume_Shaurya_17110145 - SHAURYA AGARAWAL 17110145 (3).pdf'\n",
            "'Resume_Shaurya_17110145 - SHAURYA AGARAWAL 17110145 (4).pdf'\n",
            "'Resume_Shaurya_17110145 - SHAURYA AGARAWAL 17110145.pdf'\n",
            "'Resume_Shaurya Agarawal (1).pdf'\n",
            "'Resume_Shaurya Agarawal (2).pdf'\n",
            "'Resume_Shaurya Agarawal.pdf'\n",
            " Resume_Shaurya_Agarawal.pdf\n",
            "'Ronak Kaoshik Resume.pdf'\n",
            "'Screenshot (119).png'\n",
            "'Screenshot (120).png'\n",
            "'Screenshot (3).png'\n",
            " SelfEvaluation17110145.gdoc\n",
            " semantic_drone_dataset_semantics_v1.1.zip\n",
            "'Shaurya_17110145(3).ipt'\n",
            "'Shaurya_17110145(4).ipt'\n",
            " Shaurya_17110145.ipt\n",
            "'SIMPLIFIED TIME TABLE SEM-II - Sheet1 (2).pdf'\n",
            " skipnet_shufflenet.zip\n",
            " \u001b[01;34mSmeet\u001b[0m/\n",
            "'SOP SRIP.gdoc'\n",
            " ss2.jpg\n",
            " ss.jpg\n",
            " st2.jpg\n",
            " st.jpg\n",
            " syncfifo.v\n",
            " \u001b[01;34mTeraco\u001b[0m/\n",
            " \u001b[01;34mterashar\u001b[0m/\n",
            " \u001b[01;34mTest\u001b[0m/\n",
            "'THE JERICHO.pdf'\n",
            " TimeTable-2017-18-Sem-I.xlsx\n",
            "'TIME TABLE BTECH 17.xlsx'\n",
            "'Tutorial Sheet-1, ES 103.pdf'\n",
            "'UAE exchange.gdoc'\n",
            "'Ubuntu18.04-OS lab.ova'\n",
            "'Ultrasonic Diffraction.pdf'\n",
            "'Untitled Diagram.drawio'\n",
            "'Untitled document (10).gdoc'\n",
            "'Untitled document (11).gdoc'\n",
            "'Untitled document (12).gdoc'\n",
            "'Untitled document (1).gdoc'\n",
            "'Untitled document (2).gdoc'\n",
            "'Untitled document (3).gdoc'\n",
            "'Untitled document (4).gdoc'\n",
            "'Untitled document (5).gdoc'\n",
            "'Untitled document (6).gdoc'\n",
            "'Untitled document (7).gdoc'\n",
            "'Untitled document (8).gdoc'\n",
            "'Untitled document (9).gdoc'\n",
            "'Untitled document.gdoc'\n",
            "'Untitled presentation (1).gslides'\n",
            "'Untitled presentation.gslides'\n",
            "'Untitled Site.gsite'\n",
            "'Untitled spreadsheet.gsheet'\n",
            " Weekly_Report1_c.gdoc\n",
            "'Weekly Report New.gdoc'\n",
            " working.gdoc\n",
            " Write-up.gdoc\n"
          ],
          "name": "stdout"
        }
      ]
    },
    {
      "cell_type": "code",
      "metadata": {
        "id": "tcqYQyLvK74m",
        "colab_type": "code",
        "outputId": "ee83d2d8-0557-463b-a7c1-5a423463d90b",
        "colab": {
          "base_uri": "https://localhost:8080/",
          "height": 34
        }
      },
      "source": [
        "cd NLP\\ Embeddings"
      ],
      "execution_count": 6,
      "outputs": [
        {
          "output_type": "stream",
          "text": [
            "/content/drive/My Drive/NLP Embeddings\n"
          ],
          "name": "stdout"
        }
      ]
    },
    {
      "cell_type": "code",
      "metadata": {
        "id": "w0iupD94K_NN",
        "colab_type": "code",
        "outputId": "d6f77feb-1778-4a93-92a2-4e0f8aa640a3",
        "colab": {
          "base_uri": "https://localhost:8080/",
          "height": 102
        }
      },
      "source": [
        "ls"
      ],
      "execution_count": 7,
      "outputs": [
        {
          "output_type": "stream",
          "text": [
            "BERT_Fine_Tuning_Sentence_Classification.ipynb        embed_test_copy.npy\n",
            "BERT_Fine_Tuning_Sentence_Classification_where.ipynb  Tatti-Copy1.ipynb\n",
            "bert_test.npy                                         Tatti-Copy3.ipynb\n",
            "bert_train.npy                                        ytest.npy\n",
            "embed_copy.npy                                        ytrain.npy\n"
          ],
          "name": "stdout"
        }
      ]
    },
    {
      "cell_type": "code",
      "metadata": {
        "id": "jbKXN1Ilb9qh",
        "colab_type": "code",
        "colab": {
          "base_uri": "https://localhost:8080/",
          "height": 170
        },
        "outputId": "8fd1f28a-a39f-426e-8c27-f8b44d4f51d2"
      },
      "source": [
        "!pip install keras-self-attention"
      ],
      "execution_count": 8,
      "outputs": [
        {
          "output_type": "stream",
          "text": [
            "Requirement already satisfied: keras-self-attention in /usr/local/lib/python3.6/dist-packages (0.42.0)\n",
            "Requirement already satisfied: Keras in /usr/local/lib/python3.6/dist-packages (from keras-self-attention) (2.2.5)\n",
            "Requirement already satisfied: numpy in /usr/local/lib/python3.6/dist-packages (from keras-self-attention) (1.17.4)\n",
            "Requirement already satisfied: six>=1.9.0 in /usr/local/lib/python3.6/dist-packages (from Keras->keras-self-attention) (1.12.0)\n",
            "Requirement already satisfied: scipy>=0.14 in /usr/local/lib/python3.6/dist-packages (from Keras->keras-self-attention) (1.3.2)\n",
            "Requirement already satisfied: h5py in /usr/local/lib/python3.6/dist-packages (from Keras->keras-self-attention) (2.8.0)\n",
            "Requirement already satisfied: keras-preprocessing>=1.1.0 in /usr/local/lib/python3.6/dist-packages (from Keras->keras-self-attention) (1.1.0)\n",
            "Requirement already satisfied: pyyaml in /usr/local/lib/python3.6/dist-packages (from Keras->keras-self-attention) (3.13)\n",
            "Requirement already satisfied: keras-applications>=1.0.8 in /usr/local/lib/python3.6/dist-packages (from Keras->keras-self-attention) (1.0.8)\n"
          ],
          "name": "stdout"
        }
      ]
    },
    {
      "cell_type": "code",
      "metadata": {
        "id": "0RgFHpbpcV0E",
        "colab_type": "code",
        "colab": {
          "base_uri": "https://localhost:8080/",
          "height": 80
        },
        "outputId": "edc21f9f-baa2-419c-b8fd-a556662c89ff"
      },
      "source": [
        "import numpy as np\n",
        "import re\n",
        "from keras.models import Sequential\n",
        "from keras.layers import Dense\n",
        "from keras.layers import Dropout\n",
        "from keras.layers import LSTM, Bidirectional,Flatten,GRU\n",
        "from keras.layers import Embedding\n",
        "from keras.layers import SimpleRNN\n",
        "from keras.utils import np_utils\n",
        "from keras.callbacks import ModelCheckpoint\n",
        "from keras.preprocessing.text import Tokenizer\n",
        "from keras import backend as K\n",
        "from keras_self_attention import SeqSelfAttention\n",
        "np_emb_train=np.load(\"bert_train.npy\",allow_pickle=1)\n",
        "np_emb_test=np.load(\"bert_test.npy\",allow_pickle=1)"
      ],
      "execution_count": 9,
      "outputs": [
        {
          "output_type": "stream",
          "text": [
            "Using TensorFlow backend.\n"
          ],
          "name": "stderr"
        },
        {
          "output_type": "display_data",
          "data": {
            "text/html": [
              "<p style=\"color: red;\">\n",
              "The default version of TensorFlow in Colab will soon switch to TensorFlow 2.x.<br>\n",
              "We recommend you <a href=\"https://www.tensorflow.org/guide/migrate\" target=\"_blank\">upgrade</a> now \n",
              "or ensure your notebook will continue to use TensorFlow 1.x via the <code>%tensorflow_version 1.x</code> magic:\n",
              "<a href=\"https://colab.research.google.com/notebooks/tensorflow_version.ipynb\" target=\"_blank\">more info</a>.</p>\n"
            ],
            "text/plain": [
              "<IPython.core.display.HTML object>"
            ]
          },
          "metadata": {
            "tags": []
          }
        }
      ]
    },
    {
      "cell_type": "code",
      "metadata": {
        "id": "YBz0KYBDikHE",
        "colab_type": "code",
        "colab": {}
      },
      "source": [
        "def preprocess(data):\n",
        "  tweets=[]\n",
        "  sentiments=[]\n",
        "  arr=[]\n",
        "  c=0\n",
        "  for i in data:\n",
        "    if(i==\"\\n\"):\n",
        "      tweets.append(arr)\n",
        "      arr=[]\n",
        "    else:\n",
        "      temp=i.split(\"\\t\")\n",
        "      if(len(temp)==3):\n",
        "        sentiments.append(temp[2])\n",
        "      arr.append(temp[0])\n",
        "  tweet=[]\n",
        "  for i in tweets:\n",
        "    temp=\"\"\n",
        "    for j in i:\n",
        "      temp+=j\n",
        "      temp+=\" \"\n",
        "    tweet.append(temp[:-1])\n",
        "  tweets=tweet \n",
        "  sent=[]\n",
        "  for i in sentiments:\n",
        "    temp=i[:-1]\n",
        "    if(temp==\"neutral\"):\n",
        "      sent.append(0)\n",
        "    elif(temp==\"positive\"):\n",
        "      sent.append(1)\n",
        "    else:\n",
        "      sent.append(2)  \n",
        "\n",
        "  return(tweets,sent)"
      ],
      "execution_count": 0,
      "outputs": []
    },
    {
      "cell_type": "code",
      "metadata": {
        "id": "qXqmqvImjeH0",
        "colab_type": "code",
        "colab": {
          "base_uri": "https://localhost:8080/",
          "height": 1000
        },
        "outputId": "46584002-7ab2-4cbc-f81e-9abc0ef90e5c"
      },
      "source": [
        "!pip install flair"
      ],
      "execution_count": 0,
      "outputs": [
        {
          "output_type": "stream",
          "text": [
            "Collecting flair\n",
            "\u001b[?25l  Downloading https://files.pythonhosted.org/packages/16/22/8fc8e5978ec05b710216735ca47415700e83f304dec7e4281d61cefb6831/flair-0.4.4-py3-none-any.whl (193kB)\n",
            "\r\u001b[K     |█▊                              | 10kB 17.7MB/s eta 0:00:01\r\u001b[K     |███▍                            | 20kB 1.8MB/s eta 0:00:01\r\u001b[K     |█████                           | 30kB 2.7MB/s eta 0:00:01\r\u001b[K     |██████▊                         | 40kB 1.7MB/s eta 0:00:01\r\u001b[K     |████████▌                       | 51kB 2.1MB/s eta 0:00:01\r\u001b[K     |██████████▏                     | 61kB 2.5MB/s eta 0:00:01\r\u001b[K     |███████████▉                    | 71kB 2.9MB/s eta 0:00:01\r\u001b[K     |█████████████▌                  | 81kB 3.3MB/s eta 0:00:01\r\u001b[K     |███████████████▏                | 92kB 3.7MB/s eta 0:00:01\r\u001b[K     |█████████████████               | 102kB 2.8MB/s eta 0:00:01\r\u001b[K     |██████████████████▋             | 112kB 2.8MB/s eta 0:00:01\r\u001b[K     |████████████████████▎           | 122kB 2.8MB/s eta 0:00:01\r\u001b[K     |██████████████████████          | 133kB 2.8MB/s eta 0:00:01\r\u001b[K     |███████████████████████▊        | 143kB 2.8MB/s eta 0:00:01\r\u001b[K     |█████████████████████████▍      | 153kB 2.8MB/s eta 0:00:01\r\u001b[K     |███████████████████████████     | 163kB 2.8MB/s eta 0:00:01\r\u001b[K     |████████████████████████████▊   | 174kB 2.8MB/s eta 0:00:01\r\u001b[K     |██████████████████████████████▍ | 184kB 2.8MB/s eta 0:00:01\r\u001b[K     |████████████████████████████████| 194kB 2.8MB/s \n",
            "\u001b[?25hCollecting segtok>=1.5.7\n",
            "  Downloading https://files.pythonhosted.org/packages/1d/59/6ed78856ab99d2da04084b59e7da797972baa0efecb71546b16d48e49d9b/segtok-1.5.7.tar.gz\n",
            "Collecting transformers>=2.0.0\n",
            "\u001b[?25l  Downloading https://files.pythonhosted.org/packages/fd/f9/51824e40f0a23a49eab4fcaa45c1c797cbf9761adedd0b558dab7c958b34/transformers-2.1.1-py3-none-any.whl (311kB)\n",
            "\u001b[K     |████████████████████████████████| 317kB 44.6MB/s \n",
            "\u001b[?25hRequirement already satisfied: matplotlib>=2.2.3 in /usr/local/lib/python3.6/dist-packages (from flair) (3.1.1)\n",
            "Requirement already satisfied: tabulate in /usr/local/lib/python3.6/dist-packages (from flair) (0.8.5)\n",
            "Collecting mpld3==0.3\n",
            "\u001b[?25l  Downloading https://files.pythonhosted.org/packages/91/95/a52d3a83d0a29ba0d6898f6727e9858fe7a43f6c2ce81a5fe7e05f0f4912/mpld3-0.3.tar.gz (788kB)\n",
            "\u001b[K     |████████████████████████████████| 798kB 52.8MB/s \n",
            "\u001b[?25hCollecting regex\n",
            "\u001b[?25l  Downloading https://files.pythonhosted.org/packages/e3/8e/cbf2295643d7265e7883326fb4654e643bfc93b3a8a8274d8010a39d8804/regex-2019.11.1-cp36-cp36m-manylinux1_x86_64.whl (643kB)\n",
            "\u001b[K     |████████████████████████████████| 645kB 55.8MB/s \n",
            "\u001b[?25hRequirement already satisfied: sklearn in /usr/local/lib/python3.6/dist-packages (from flair) (0.0)\n",
            "Requirement already satisfied: pytest>=3.6.4 in /usr/local/lib/python3.6/dist-packages (from flair) (3.6.4)\n",
            "Requirement already satisfied: hyperopt>=0.1.1 in /usr/local/lib/python3.6/dist-packages (from flair) (0.1.2)\n",
            "Collecting bpemb>=0.2.9\n",
            "  Downloading https://files.pythonhosted.org/packages/bc/70/468a9652095b370f797ed37ff77e742b11565c6fd79eaeca5f2e50b164a7/bpemb-0.3.0-py3-none-any.whl\n",
            "Requirement already satisfied: gensim>=3.4.0 in /usr/local/lib/python3.6/dist-packages (from flair) (3.6.0)\n",
            "Collecting tiny-tokenizer[all]\n",
            "  Downloading https://files.pythonhosted.org/packages/8c/ee/08078f68165a7465f028f3505e6a749b50f6f5c229bd272a863ab07acdc2/tiny_tokenizer-3.0.1.tar.gz\n",
            "Collecting sqlitedict>=1.6.0\n",
            "  Downloading https://files.pythonhosted.org/packages/0f/1c/c757b93147a219cf1e25cef7e1ad9b595b7f802159493c45ce116521caff/sqlitedict-1.6.0.tar.gz\n",
            "Collecting deprecated>=1.2.4\n",
            "  Downloading https://files.pythonhosted.org/packages/f6/89/62912e01f3cede11edcc0abf81298e3439d9c06c8dce644369380ed13f6d/Deprecated-1.2.7-py2.py3-none-any.whl\n",
            "Collecting ipython==7.6.1\n",
            "\u001b[?25l  Downloading https://files.pythonhosted.org/packages/a6/2c/c7d44277b599df35af734d8f4142d501192fdb7aef5d04daf882d7eccfbc/ipython-7.6.1-py3-none-any.whl (774kB)\n",
            "\u001b[K     |████████████████████████████████| 778kB 58.0MB/s \n",
            "\u001b[?25hRequirement already satisfied: torchvision in /usr/local/lib/python3.6/dist-packages (from flair) (0.4.2+cu100)\n",
            "Collecting langdetect\n",
            "\u001b[?25l  Downloading https://files.pythonhosted.org/packages/59/59/4bc44158a767a6d66de18c4136c8aa90491d56cc951c10b74dd1e13213c9/langdetect-1.0.7.zip (998kB)\n",
            "\u001b[K     |████████████████████████████████| 1.0MB 62.1MB/s \n",
            "\u001b[?25hRequirement already satisfied: pymongo in /usr/local/lib/python3.6/dist-packages (from flair) (3.9.0)\n",
            "Requirement already satisfied: ipython-genutils==0.2.0 in /usr/local/lib/python3.6/dist-packages (from flair) (0.2.0)\n",
            "Requirement already satisfied: torch>=1.1.0 in /usr/local/lib/python3.6/dist-packages (from flair) (1.3.1+cu100)\n",
            "Requirement already satisfied: tqdm>=4.26.0 in /usr/local/lib/python3.6/dist-packages (from flair) (4.28.1)\n",
            "Requirement already satisfied: urllib3<1.25,>=1.20 in /usr/local/lib/python3.6/dist-packages (from flair) (1.24.3)\n",
            "Collecting sacremoses\n",
            "\u001b[?25l  Downloading https://files.pythonhosted.org/packages/1f/8e/ed5364a06a9ba720fddd9820155cc57300d28f5f43a6fd7b7e817177e642/sacremoses-0.0.35.tar.gz (859kB)\n",
            "\u001b[K     |████████████████████████████████| 860kB 46.9MB/s \n",
            "\u001b[?25hRequirement already satisfied: requests in /usr/local/lib/python3.6/dist-packages (from transformers>=2.0.0->flair) (2.21.0)\n",
            "Collecting sentencepiece\n",
            "\u001b[?25l  Downloading https://files.pythonhosted.org/packages/14/3d/efb655a670b98f62ec32d66954e1109f403db4d937c50d779a75b9763a29/sentencepiece-0.1.83-cp36-cp36m-manylinux1_x86_64.whl (1.0MB)\n",
            "\u001b[K     |████████████████████████████████| 1.0MB 52.1MB/s \n",
            "\u001b[?25hRequirement already satisfied: numpy in /usr/local/lib/python3.6/dist-packages (from transformers>=2.0.0->flair) (1.17.4)\n",
            "Requirement already satisfied: boto3 in /usr/local/lib/python3.6/dist-packages (from transformers>=2.0.0->flair) (1.10.14)\n",
            "Requirement already satisfied: python-dateutil>=2.1 in /usr/local/lib/python3.6/dist-packages (from matplotlib>=2.2.3->flair) (2.6.1)\n",
            "Requirement already satisfied: cycler>=0.10 in /usr/local/lib/python3.6/dist-packages (from matplotlib>=2.2.3->flair) (0.10.0)\n",
            "Requirement already satisfied: kiwisolver>=1.0.1 in /usr/local/lib/python3.6/dist-packages (from matplotlib>=2.2.3->flair) (1.1.0)\n",
            "Requirement already satisfied: pyparsing!=2.0.4,!=2.1.2,!=2.1.6,>=2.0.1 in /usr/local/lib/python3.6/dist-packages (from matplotlib>=2.2.3->flair) (2.4.5)\n",
            "Requirement already satisfied: scikit-learn in /usr/local/lib/python3.6/dist-packages (from sklearn->flair) (0.21.3)\n",
            "Requirement already satisfied: setuptools in /usr/local/lib/python3.6/dist-packages (from pytest>=3.6.4->flair) (41.4.0)\n",
            "Requirement already satisfied: pluggy<0.8,>=0.5 in /usr/local/lib/python3.6/dist-packages (from pytest>=3.6.4->flair) (0.7.1)\n",
            "Requirement already satisfied: attrs>=17.4.0 in /usr/local/lib/python3.6/dist-packages (from pytest>=3.6.4->flair) (19.3.0)\n",
            "Requirement already satisfied: atomicwrites>=1.0 in /usr/local/lib/python3.6/dist-packages (from pytest>=3.6.4->flair) (1.3.0)\n",
            "Requirement already satisfied: six>=1.10.0 in /usr/local/lib/python3.6/dist-packages (from pytest>=3.6.4->flair) (1.12.0)\n",
            "Requirement already satisfied: more-itertools>=4.0.0 in /usr/local/lib/python3.6/dist-packages (from pytest>=3.6.4->flair) (7.2.0)\n",
            "Requirement already satisfied: py>=1.5.0 in /usr/local/lib/python3.6/dist-packages (from pytest>=3.6.4->flair) (1.8.0)\n",
            "Requirement already satisfied: networkx in /usr/local/lib/python3.6/dist-packages (from hyperopt>=0.1.1->flair) (2.4)\n",
            "Requirement already satisfied: scipy in /usr/local/lib/python3.6/dist-packages (from hyperopt>=0.1.1->flair) (1.3.2)\n",
            "Requirement already satisfied: future in /usr/local/lib/python3.6/dist-packages (from hyperopt>=0.1.1->flair) (0.16.0)\n",
            "Requirement already satisfied: smart-open>=1.2.1 in /usr/local/lib/python3.6/dist-packages (from gensim>=3.4.0->flair) (1.9.0)\n",
            "Collecting natto-py\n",
            "  Downloading https://files.pythonhosted.org/packages/2f/a0/eaac1ed66c02823a2423a21de863da53a5268ce77582d91d1edb45a403dc/natto-py-0.9.0.tar.gz\n",
            "Collecting kytea\n",
            "\u001b[?25l  Downloading https://files.pythonhosted.org/packages/fe/bc/702d01a96d5d094bd9f3c2eb1d12153daf8edf7bf5d78b9a2dae1202df07/kytea-0.1.4-cp36-cp36m-manylinux1_x86_64.whl (3.8MB)\n",
            "\u001b[K     |████████████████████████████████| 3.8MB 23.0MB/s \n",
            "\u001b[?25hCollecting SudachiPy\n",
            "\u001b[?25l  Downloading https://files.pythonhosted.org/packages/b6/09/7c55ab89d7bcdd8075929add8b096c4b5347d661d78e7d4884214f672513/SudachiPy-0.4.0-py3-none-any.whl (73kB)\n",
            "\u001b[K     |████████████████████████████████| 81kB 10.6MB/s \n",
            "\u001b[?25hRequirement already satisfied: wrapt<2,>=1.10 in /usr/local/lib/python3.6/dist-packages (from deprecated>=1.2.4->flair) (1.11.2)\n",
            "Requirement already satisfied: pygments in /usr/local/lib/python3.6/dist-packages (from ipython==7.6.1->flair) (2.1.3)\n",
            "Requirement already satisfied: jedi>=0.10 in /usr/local/lib/python3.6/dist-packages (from ipython==7.6.1->flair) (0.15.1)\n",
            "Requirement already satisfied: pickleshare in /usr/local/lib/python3.6/dist-packages (from ipython==7.6.1->flair) (0.7.5)\n",
            "Requirement already satisfied: decorator in /usr/local/lib/python3.6/dist-packages (from ipython==7.6.1->flair) (4.4.1)\n",
            "Requirement already satisfied: traitlets>=4.2 in /usr/local/lib/python3.6/dist-packages (from ipython==7.6.1->flair) (4.3.3)\n",
            "Requirement already satisfied: pexpect; sys_platform != \"win32\" in /usr/local/lib/python3.6/dist-packages (from ipython==7.6.1->flair) (4.7.0)\n",
            "Requirement already satisfied: backcall in /usr/local/lib/python3.6/dist-packages (from ipython==7.6.1->flair) (0.1.0)\n",
            "Collecting prompt-toolkit<2.1.0,>=2.0.0\n",
            "\u001b[?25l  Downloading https://files.pythonhosted.org/packages/87/61/2dfea88583d5454e3a64f9308a686071d58d59a55db638268a6413e1eb6d/prompt_toolkit-2.0.10-py3-none-any.whl (340kB)\n",
            "\u001b[K     |████████████████████████████████| 348kB 60.4MB/s \n",
            "\u001b[?25hRequirement already satisfied: pillow>=4.1.1 in /usr/local/lib/python3.6/dist-packages (from torchvision->flair) (4.3.0)\n",
            "Requirement already satisfied: click in /usr/local/lib/python3.6/dist-packages (from sacremoses->transformers>=2.0.0->flair) (7.0)\n",
            "Requirement already satisfied: joblib in /usr/local/lib/python3.6/dist-packages (from sacremoses->transformers>=2.0.0->flair) (0.14.0)\n",
            "Requirement already satisfied: chardet<3.1.0,>=3.0.2 in /usr/local/lib/python3.6/dist-packages (from requests->transformers>=2.0.0->flair) (3.0.4)\n",
            "Requirement already satisfied: idna<2.9,>=2.5 in /usr/local/lib/python3.6/dist-packages (from requests->transformers>=2.0.0->flair) (2.8)\n",
            "Requirement already satisfied: certifi>=2017.4.17 in /usr/local/lib/python3.6/dist-packages (from requests->transformers>=2.0.0->flair) (2019.9.11)\n",
            "Requirement already satisfied: s3transfer<0.3.0,>=0.2.0 in /usr/local/lib/python3.6/dist-packages (from boto3->transformers>=2.0.0->flair) (0.2.1)\n",
            "Requirement already satisfied: jmespath<1.0.0,>=0.7.1 in /usr/local/lib/python3.6/dist-packages (from boto3->transformers>=2.0.0->flair) (0.9.4)\n",
            "Requirement already satisfied: botocore<1.14.0,>=1.13.14 in /usr/local/lib/python3.6/dist-packages (from boto3->transformers>=2.0.0->flair) (1.13.14)\n",
            "Requirement already satisfied: boto>=2.32 in /usr/local/lib/python3.6/dist-packages (from smart-open>=1.2.1->gensim>=3.4.0->flair) (2.49.0)\n",
            "Requirement already satisfied: cffi in /usr/local/lib/python3.6/dist-packages (from natto-py->tiny-tokenizer[all]->flair) (1.13.2)\n",
            "Requirement already satisfied: sortedcontainers~=2.1.0 in /usr/local/lib/python3.6/dist-packages (from SudachiPy->tiny-tokenizer[all]->flair) (2.1.0)\n",
            "Collecting dartsclone~=0.6.0\n",
            "  Downloading https://files.pythonhosted.org/packages/7d/4d/45acbe9d0795d8ceef0fee1f9ac2dcbf27dca3a0578a023fcdc3fef6fd89/dartsclone-0.6.tar.gz\n",
            "Requirement already satisfied: parso>=0.5.0 in /usr/local/lib/python3.6/dist-packages (from jedi>=0.10->ipython==7.6.1->flair) (0.5.1)\n",
            "Requirement already satisfied: ptyprocess>=0.5 in /usr/local/lib/python3.6/dist-packages (from pexpect; sys_platform != \"win32\"->ipython==7.6.1->flair) (0.6.0)\n",
            "Requirement already satisfied: wcwidth in /usr/local/lib/python3.6/dist-packages (from prompt-toolkit<2.1.0,>=2.0.0->ipython==7.6.1->flair) (0.1.7)\n",
            "Requirement already satisfied: olefile in /usr/local/lib/python3.6/dist-packages (from pillow>=4.1.1->torchvision->flair) (0.46)\n",
            "Requirement already satisfied: docutils<0.16,>=0.10 in /usr/local/lib/python3.6/dist-packages (from botocore<1.14.0,>=1.13.14->boto3->transformers>=2.0.0->flair) (0.15.2)\n",
            "Requirement already satisfied: pycparser in /usr/local/lib/python3.6/dist-packages (from cffi->natto-py->tiny-tokenizer[all]->flair) (2.19)\n",
            "Requirement already satisfied: Cython in /usr/local/lib/python3.6/dist-packages (from dartsclone~=0.6.0->SudachiPy->tiny-tokenizer[all]->flair) (0.29.14)\n",
            "Building wheels for collected packages: segtok, mpld3, tiny-tokenizer, sqlitedict, langdetect, sacremoses, natto-py, dartsclone\n",
            "  Building wheel for segtok (setup.py) ... \u001b[?25l\u001b[?25hdone\n",
            "  Created wheel for segtok: filename=segtok-1.5.7-cp36-none-any.whl size=23258 sha256=150064016c69dd6d422f2d892b8c1c0eba3b453294ad8e01258819cfae9bbd94\n",
            "  Stored in directory: /root/.cache/pip/wheels/15/ee/a8/6112173f1386d33eebedb3f73429cfa41a4c3084556bcee254\n",
            "  Building wheel for mpld3 (setup.py) ... \u001b[?25l\u001b[?25hdone\n",
            "  Created wheel for mpld3: filename=mpld3-0.3-cp36-none-any.whl size=116679 sha256=0c0d25d140779aab6b61c4463d575a30bda68f4475f9f02c02caa6178ae6b69f\n",
            "  Stored in directory: /root/.cache/pip/wheels/c0/47/fb/8a64f89aecfe0059830479308ad42d62e898a3e3cefdf6ba28\n",
            "  Building wheel for tiny-tokenizer (setup.py) ... \u001b[?25l\u001b[?25hdone\n",
            "  Created wheel for tiny-tokenizer: filename=tiny_tokenizer-3.0.1-cp36-none-any.whl size=9444 sha256=d57c8f605c2beedd94cae8b1a8abdf11ca74ce8f9a57f9d2aeb66745ee38370e\n",
            "  Stored in directory: /root/.cache/pip/wheels/76/04/72/d04956c4b03e3b03e5e095c06cbabc9bfb6f1bec02288eacdb\n",
            "  Building wheel for sqlitedict (setup.py) ... \u001b[?25l\u001b[?25hdone\n",
            "  Created wheel for sqlitedict: filename=sqlitedict-1.6.0-cp36-none-any.whl size=14689 sha256=10b106c7580e548b1772dd3f688b8695c60764d5273124a8921315d3e426b1da\n",
            "  Stored in directory: /root/.cache/pip/wheels/bd/57/d3/907c3ee02d35e66f674ad0106e61f06eeeb98f6ee66a6cc3fe\n",
            "  Building wheel for langdetect (setup.py) ... \u001b[?25l\u001b[?25hdone\n",
            "  Created wheel for langdetect: filename=langdetect-1.0.7-cp36-none-any.whl size=993460 sha256=abfdb332dc7b329b6e0bbee39a829b6634ad4d2f8f707e29f464d013a097241f\n",
            "  Stored in directory: /root/.cache/pip/wheels/ec/0c/a9/1647275e7ef5014e7b83ff30105180e332867d65e7617ddafe\n",
            "  Building wheel for sacremoses (setup.py) ... \u001b[?25l\u001b[?25hdone\n",
            "  Created wheel for sacremoses: filename=sacremoses-0.0.35-cp36-none-any.whl size=883999 sha256=59f3525744e12f6784242070dcbcf833ded38421ebe87b1950f80b8d54eaffc4\n",
            "  Stored in directory: /root/.cache/pip/wheels/63/2a/db/63e2909042c634ef551d0d9ac825b2b0b32dede4a6d87ddc94\n",
            "  Building wheel for natto-py (setup.py) ... \u001b[?25l\u001b[?25hdone\n",
            "  Created wheel for natto-py: filename=natto_py-0.9.0-cp36-none-any.whl size=45075 sha256=a8923b2baaa9d52fd97e72a0b8e46602485d9b8ebe159520a8b818e8d6dfc877\n",
            "  Stored in directory: /root/.cache/pip/wheels/21/98/3a/ebfb1636e18698b3f47d8caa3f90fc3a91f1ea58430616018f\n"
          ],
          "name": "stdout"
        }
      ]
    },
    {
      "cell_type": "code",
      "metadata": {
        "id": "UNINaPsZjcuO",
        "colab_type": "code",
        "colab": {}
      },
      "source": [
        "from flair.embeddings import FlairEmbeddings, BertEmbeddings\n",
        "\n",
        "# init Flair embeddings\n",
        "flair_forward_embedding = FlairEmbeddings('multi-forward')\n",
        "flair_backward_embedding = FlairEmbeddings('multi-backward')\n",
        "\n",
        "# init multilingual BERT\n",
        "bert_embedding = BertEmbeddings('bert-base-multilingual-cased')"
      ],
      "execution_count": 0,
      "outputs": []
    },
    {
      "cell_type": "code",
      "metadata": {
        "id": "AFpMlIADcyIE",
        "colab_type": "code",
        "outputId": "ce14389d-3eb6-4350-a63c-908aca860604",
        "colab": {
          "base_uri": "https://localhost:8080/",
          "height": 51
        }
      },
      "source": [
        "import torch\n",
        "from torch.nn.utils.rnn import pad_sequence\n",
        "print(np_emb_train[0].shape)  \n",
        "print(np_emb_test.shape)  \n",
        "X_train = np_emb_train\n",
        "X_test = np_emb_test\n",
        "emb_list = []\n",
        "for i in X_train:\n",
        "  emb_list.append(torch.tensor(i[:31]))\n",
        "X_train = pad_sequence(emb_list, batch_first=True)\n",
        "#X_test = preprocessing.sequence.pad_sequences(X_test, maxlen=500)\n",
        "emb_list = []\n",
        "for i in X_test:\n",
        "  emb_list.append(torch.tensor(i[:31]))\n",
        "X_test = pad_sequence(emb_list, batch_first=True)"
      ],
      "execution_count": 11,
      "outputs": [
        {
          "output_type": "stream",
          "text": [
            "(18, 3072)\n",
            "(1869,)\n"
          ],
          "name": "stdout"
        }
      ]
    },
    {
      "cell_type": "code",
      "metadata": {
        "id": "pHtoZ9XqdWnq",
        "colab_type": "code",
        "colab": {}
      },
      "source": [
        "l=[]\n",
        "m=[]\n",
        "np_emb_train1=np.load(\"embed_copy.npy\",allow_pickle=1)\n",
        "np_emb_test1=np.load(\"embed_test_copy.npy\",allow_pickle=1)\n",
        "\n",
        "embeddings_polarity=np_emb_train1.tolist()\n",
        "for i in range(len(embeddings_polarity)):\n",
        "    l.append(embeddings_polarity[i][0])\n",
        "    if embeddings_polarity[i][1].lower()=='positive':\n",
        "        m.append(1)\n",
        "    elif embeddings_polarity[i][1].lower()=='negative':\n",
        "        m.append(2)\n",
        "    else:\n",
        "        m.append(0)\n",
        "l1=[]\n",
        "m1=[]\n",
        "embeddings_test=np_emb_test1.tolist()\n",
        "for i in range(len(embeddings_test)):\n",
        "    l1.append(embeddings_test[i][0])\n",
        "    if embeddings_test[i][1].lower()=='positive':\n",
        "        m1.append(1)\n",
        "    elif embeddings_test[i][1].lower()=='negative':\n",
        "        m1.append(2)\n",
        "    else:\n",
        "        m1.append(0)"
      ],
      "execution_count": 0,
      "outputs": []
    },
    {
      "cell_type": "code",
      "metadata": {
        "id": "-vMUNqfIdg9u",
        "colab_type": "code",
        "colab": {}
      },
      "source": [
        "Y_train=np.load(\"ytrain.npy\")\n",
        "Y_test=np.load(\"ytest.npy\")"
      ],
      "execution_count": 0,
      "outputs": []
    },
    {
      "cell_type": "code",
      "metadata": {
        "id": "L2VyLUnddisi",
        "colab_type": "code",
        "outputId": "740df0ad-816a-4c21-fb04-fdc317c7a205",
        "colab": {
          "base_uri": "https://localhost:8080/",
          "height": 751
        }
      },
      "source": [
        "def recall_m(y_true, y_pred):\n",
        "        true_positives = K.sum(K.round(K.clip(y_true * y_pred, 0, 1)))\n",
        "        possible_positives = K.sum(K.round(K.clip(y_true, 0, 1)))\n",
        "        recall = true_positives / (possible_positives + K.epsilon())\n",
        "        return recall\n",
        "\n",
        "def precision_m(y_true, y_pred):\n",
        "        true_positives = K.sum(K.round(K.clip(y_true * y_pred, 0, 1)))\n",
        "        predicted_positives = K.sum(K.round(K.clip(y_pred, 0, 1)))\n",
        "        precision = true_positives / (predicted_positives + K.epsilon())\n",
        "        return precision\n",
        "\n",
        "def f1_m(y_true, y_pred):\n",
        "    precision = precision_m(y_true, y_pred)\n",
        "    recall = recall_m(y_true, y_pred)\n",
        "    return 2*((precision*recall)/(precision+recall+K.epsilon()))\n",
        "\n",
        "def LSTM_model():\n",
        "    model = Sequential()\n",
        "    model.add(Bidirectional(LSTM(128,input_shape=(35,3072),return_sequences=1)))\n",
        "    model.add(Dropout(0.2))\n",
        "    model.add(SeqSelfAttention(attention_width=15,attention_activation='sigmoid'))\n",
        "    model.add(Dense(3, activation='softmax'))\n",
        "    model.add(GRU(20))\n",
        "    model.add(Dropout(0.2))\n",
        "    model.add(Dense(3, activation='softmax'))\n",
        "    model.compile(loss='categorical_crossentropy', optimizer='adam',metrics=['acc',f1_m,precision_m, recall_m])\n",
        "    #print(model.summary())\n",
        "    filepath=\"lstm.hdf5\"\n",
        "    checkpoint = ModelCheckpoint(filepath, monitor='loss', verbose=1, save_best_only=True, mode='min')\n",
        "    callbacks_list = [checkpoint]\n",
        "    model.fit(X_train.numpy(), Y_train, epochs=10, batch_size=256,callbacks=callbacks_list)\n",
        "    return model\n",
        "model=LSTM_model()"
      ],
      "execution_count": 16,
      "outputs": [
        {
          "output_type": "stream",
          "text": [
            "WARNING:tensorflow:From /usr/local/lib/python3.6/dist-packages/keras/backend/tensorflow_backend.py:4479: The name tf.truncated_normal is deprecated. Please use tf.random.truncated_normal instead.\n",
            "\n",
            "Epoch 1/10\n",
            "15131/15131 [==============================] - 14s 918us/step - loss: 1.0310 - acc: 0.4406 - f1_m: 0.0720 - precision_m: 0.2476 - recall_m: 0.0443\n",
            "\n",
            "Epoch 00001: loss improved from inf to 1.03095, saving model to lstm.hdf5\n",
            "Epoch 2/10\n",
            "15131/15131 [==============================] - 11s 750us/step - loss: 0.9269 - acc: 0.5372 - f1_m: 0.3894 - precision_m: 0.6213 - recall_m: 0.2880\n",
            "\n",
            "Epoch 00002: loss improved from 1.03095 to 0.92691, saving model to lstm.hdf5\n",
            "Epoch 3/10\n",
            "15131/15131 [==============================] - 11s 746us/step - loss: 0.8730 - acc: 0.5756 - f1_m: 0.4673 - precision_m: 0.6564 - recall_m: 0.3653\n",
            "\n",
            "Epoch 00003: loss improved from 0.92691 to 0.87302, saving model to lstm.hdf5\n",
            "Epoch 4/10\n",
            "15131/15131 [==============================] - 11s 755us/step - loss: 0.8374 - acc: 0.6027 - f1_m: 0.5258 - precision_m: 0.6622 - recall_m: 0.4376\n",
            "\n",
            "Epoch 00004: loss improved from 0.87302 to 0.83741, saving model to lstm.hdf5\n",
            "Epoch 5/10\n",
            "15131/15131 [==============================] - 12s 770us/step - loss: 0.8010 - acc: 0.6319 - f1_m: 0.5899 - precision_m: 0.6728 - recall_m: 0.5259\n",
            "\n",
            "Epoch 00005: loss improved from 0.83741 to 0.80098, saving model to lstm.hdf5\n",
            "Epoch 6/10\n",
            "15131/15131 [==============================] - 12s 761us/step - loss: 0.7529 - acc: 0.6666 - f1_m: 0.6441 - precision_m: 0.6996 - recall_m: 0.5971\n",
            "\n",
            "Epoch 00006: loss improved from 0.80098 to 0.75291, saving model to lstm.hdf5\n",
            "Epoch 7/10\n",
            "15131/15131 [==============================] - 11s 750us/step - loss: 0.7239 - acc: 0.6807 - f1_m: 0.6638 - precision_m: 0.7046 - recall_m: 0.6277\n",
            "\n",
            "Epoch 00007: loss improved from 0.75291 to 0.72389, saving model to lstm.hdf5\n",
            "Epoch 8/10\n",
            "15131/15131 [==============================] - 11s 752us/step - loss: 0.6574 - acc: 0.7212 - f1_m: 0.7125 - precision_m: 0.7412 - recall_m: 0.6862\n",
            "\n",
            "Epoch 00008: loss improved from 0.72389 to 0.65743, saving model to lstm.hdf5\n",
            "Epoch 9/10\n",
            "15131/15131 [==============================] - 11s 738us/step - loss: 0.5994 - acc: 0.7527 - f1_m: 0.7452 - precision_m: 0.7699 - recall_m: 0.7222\n",
            "\n",
            "Epoch 00009: loss improved from 0.65743 to 0.59939, saving model to lstm.hdf5\n",
            "Epoch 10/10\n",
            "15131/15131 [==============================] - 11s 737us/step - loss: 0.5581 - acc: 0.7750 - f1_m: 0.7703 - precision_m: 0.7899 - recall_m: 0.7517\n",
            "\n",
            "Epoch 00010: loss improved from 0.59939 to 0.55807, saving model to lstm.hdf5\n"
          ],
          "name": "stdout"
        }
      ]
    },
    {
      "cell_type": "code",
      "metadata": {
        "id": "x37hlYxkdk0i",
        "colab_type": "code",
        "colab": {
          "base_uri": "https://localhost:8080/",
          "height": 34
        },
        "outputId": "139e5280-fb01-42ed-b435-58991b44a8ca"
      },
      "source": [
        "loss, accuracy, f1_score, precision, recall = model.evaluate(X_test, Y_test, verbose=0)\n",
        "accuracy, f1_score, precision"
      ],
      "execution_count": 18,
      "outputs": [
        {
          "output_type": "execute_result",
          "data": {
            "text/plain": [
              "(0.5280898877999054, 0.5249822059374177, 0.5378145287864792)"
            ]
          },
          "metadata": {
            "tags": []
          },
          "execution_count": 18
        }
      ]
    },
    {
      "cell_type": "code",
      "metadata": {
        "id": "uOYsbRYFheqD",
        "colab_type": "code",
        "colab": {}
      },
      "source": [
        ""
      ],
      "execution_count": 0,
      "outputs": []
    }
  ]
}